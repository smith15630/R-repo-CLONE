{
 "cells": [
  {
   "cell_type": "code",
   "execution_count": null,
   "id": "efec3835-a790-4b0c-99e6-ad0905c2db33",
   "metadata": {},
   "outputs": [],
   "source": [
    "reg<-read.csv(\"regrex1.csv\")\n",
    "plot(reg$y~reg$x, main=\"regression\", xlab=\"x\", ylab=\"y\", pch=19, col=\"goldenrod\")\n",
    "\n",
    "\n",
    "\n",
    "lm(formula=reg$y~reg$x)\n",
    "plot(reg$y~reg$x, main=\"regression with line\", xlab=\"x\", ylab=\"y\", pch=19, col=\"purple\")\n",
    "model<-lm(formula=reg$y~reg$x)\n",
    "abline(model)\n",
    "\n"
   ]
  }
 ],
 "metadata": {
  "kernelspec": {
   "display_name": "R",
   "language": "R",
   "name": "ir"
  },
  "language_info": {
   "codemirror_mode": "r",
   "file_extension": ".r",
   "mimetype": "text/x-r-source",
   "name": "R",
   "pygments_lexer": "r",
   "version": "4.1.2"
  }
 },
 "nbformat": 4,
 "nbformat_minor": 5
}
